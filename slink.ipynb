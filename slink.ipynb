{
 "cells": [
  {
   "cell_type": "markdown",
   "metadata": {},
   "source": [
    "# Алгоритм иерархической кластеризации с алгоритмом объединения \"single-link clustering\" (SLINK)\n",
    "\n",
    "Алгоритм начинает работу, считая каждую точку отдельным кластером. На каждой итерации он находит два максимально близких кластера (с минимальным расстоянием между ближайшими элементами) и сливает их в один. Это продолжается, пока все точки не окажутся в одном кластере.\n",
    "\n",
    "Сначала алгоритм рассчитывает матрицу расстояний $ D $ (для удобства диагональ заполняется бесконечностями). Также для каждой точки в двух дополнительных массивах хранится индекс ближайшего соседа и расстояние до него.\n",
    "\n",
    "Это занимает $O(n^2)$ времени.\n",
    "\n",
    "На каждой итерации: \n",
    " - находится минимум в массиве расстояний до ближайшего соседа и две соответствующие точки $i$ и $j$\n",
    " - в массиве расстояний до ближайшего соседа на j-том месте ставится бесконечность, что соответствует удалению $j$ из рассмотрения\n",
    " - пересчитывается i-тая строчка матрицы расстояний: $D(i,x) = min( D(i,x), D(j,x) )$. Теперь i-тая строчка соответствует кластеру $ij$\n",
    " - для кластера $ij$ находится новый ближайший сосед и расстояние до него и записывается в i-тую ячейку соответствующих массивов\n",
    " - если для какой-то точки ближайшим соседом была $j$, то для нее ближайшим соседом становится $i$\n",
    "\n",
    "$O(n)$ итераций, на каждой из них тратится $O(n)$ времени на поиск минимума в массивах и обновление строки в матрице.<br>\n",
    "Итого сложность по времени $O(n^2)$"
   ]
  },
  {
   "cell_type": "code",
   "execution_count": 1,
   "metadata": {
    "collapsed": true
   },
   "outputs": [],
   "source": [
    "import numpy as np\n",
    "\n",
    "def distance(a,b):\n",
    "    return abs(a - b)\n",
    "\n",
    "def proximity_matrix(x, inf):  \n",
    "    proximity = np.eye(len(x))\n",
    "    for i,a in enumerate(x):\n",
    "        for j,b in enumerate(x):\n",
    "            if i == j:\n",
    "                proximity[i,j] = inf\n",
    "            else:\n",
    "                proximity[i,j] = distance(a,b)\n",
    "    return proximity\n",
    "\n",
    "def SLINKcluster(x, inf):\n",
    "    clusters = [[i] for i in x]\n",
    "\n",
    "    proximity = proximity_matrix(x, inf)\n",
    "    dist_list = np.min(proximity, axis=0)\n",
    "    nearest_list = np.argmin(proximity, axis=0) \n",
    "    \n",
    "    for step in range(len(x)-1):\n",
    "        i = np.argmin(dist_list)\n",
    "        j = nearest_list[i]\n",
    "\n",
    "        dist_list[j] = inf\n",
    "        \n",
    "        for k,a in enumerate(x):\n",
    "            if k == i or k == j:\n",
    "                d = inf\n",
    "            else:\n",
    "                d = min(proximity[i,k], proximity[j,k])\n",
    "            proximity[i,k] = d\n",
    "            proximity[k,j] = inf \n",
    "        \n",
    "        dist_list[i] = min(proximity[i])\n",
    "        nearest_list[i] = np.argmin(proximity[i])\n",
    "\n",
    "        for k,n in enumerate(nearest_list):\n",
    "            if n == j: \n",
    "                nearest_list[k] = i\n",
    "\n",
    "        clusters[i] = [clusters[i], clusters[j]]\n",
    "    return clusters[i]"
   ]
  },
  {
   "cell_type": "markdown",
   "metadata": {},
   "source": [
    "Недостаток этого метода в том, что он производит \"длинные\" кластеры, в которых расстояние между соседями мало, но расстояние между элементами на двух противоположных концах кластера велико.\n",
    "\n",
    "Также метод имеет проблему \"цепных кластеров\", в которых к кластеру каждый раз добавляется одиночный элемент.<br>\n",
    "Пример: на точках $x = [1, 2, 4, 6, 8]$ получатся кластеры $[[[[1,2],4],6],8]$\n",
    "\n",
    "Алгоритм SLINK является оптимальным для произвольного кластеризируемого множества, варьироваться в нем будет лишь способ измерения расстояния между точками в матрице расстояний.\n",
    "\n",
    "Но для специфических постановок задачи алгоритм может быть улучшен.\n",
    "\n",
    "# Алгоритм иерархической кластеризации для точек на прямой\n",
    "Заметим, что на прямой ближайшими соседями точки могут быть только ее непосредственные соседи, а значит можно хранить расстояние только до соседа справа. К тому же только соседние кластеры могут сливаться.\n",
    "\n",
    "Алгоритм сортирует массив точек. Заполняется массив расстояний между соседними точками и на его основе строится очередь с приоритетом. Также заполняется массив, который для каждой точки хранит индекс \"образующей\" кластера - минимального элемента кластера, к которому непосредственно принадлежит эта точка (или кластер, если сама точка является \"образующей\").<br>\n",
    "Сложность: $O(n*log~n)$ из-за сортировки.\n",
    "\n",
    "На каждой итерации:\n",
    " - из очереди расстояний выталкивается минимальный элемент и определяются ближайшие точки $i$ и $i+1$\n",
    " - определяется индекс $n_i$ образующей максимального кластера, к которому принадлежит $i$ (подъемом к корню по дендрограмме на текущем шаге)\n",
    " - сливаются кластеры с образующими $n_i$ и $i+1$ (т.к. $i+1$ всегда образующая своего кластера)\n",
    " - для точки $i+1$ обновляется ссылка на образующую кластера\n",
    " \n",
    "Сложность: $O(n)$ итераций, на каждой $O(log~n)$ операций ($~O(n)$ в худшем случае слияния цепного кластера вида $[1,[5,[8,[10,11]]]]$ и $[20...]~$).\n",
    "\n",
    "Итого сложность $O(n*log~n)$.\n"
   ]
  },
  {
   "cell_type": "code",
   "execution_count": 2,
   "metadata": {
    "collapsed": true
   },
   "outputs": [],
   "source": [
    "import numpy as np\n",
    "import heapq\n",
    "def linecluster(x):\n",
    "    x.sort()\n",
    "    clusters = [[i] for i in x]\n",
    "    \n",
    "    distances = [(abs(x[i] - x[i+1]), i)  for i in range(len(x)-1)]\n",
    "    heapq.heapify(distances) \n",
    "    \n",
    "    nearest = [i for i in range(len(x))]\n",
    "\n",
    "    for step in range(len(x)-1):\n",
    "        t = heapq.heappop(distances) \n",
    "        i = t[-1]    \n",
    "\n",
    "        ni = i\n",
    "        while nearest[ni] < ni:\n",
    "            ni = nearest[ni]\n",
    "        clusters[ni] = [clusters[ni], clusters[i+1]]\n",
    "        \n",
    "        nearest[i+1] = ni\n",
    "                \n",
    "    return clusters[ni]"
   ]
  },
  {
   "cell_type": "code",
   "execution_count": 3,
   "metadata": {},
   "outputs": [
    {
     "name": "stdout",
     "output_type": "stream",
     "text": [
      "[[[[5], [10]], [[23], [[[31], [35]], [40]]]], [[[70], [70]], [[79], [82]]]]\n"
     ]
    }
   ],
   "source": [
    "import random\n",
    "x = [random.randrange(100) for i in range(10)]\n",
    "# x = [float(a) for a in input().split()]\n",
    "\n",
    "print(linecluster(x))"
   ]
  },
  {
   "cell_type": "code",
   "execution_count": null,
   "metadata": {
    "collapsed": true
   },
   "outputs": [],
   "source": []
  }
 ],
 "metadata": {
  "kernelspec": {
   "display_name": "Python 3",
   "language": "python",
   "name": "python3"
  },
  "language_info": {
   "codemirror_mode": {
    "name": "ipython",
    "version": 3
   },
   "file_extension": ".py",
   "mimetype": "text/x-python",
   "name": "python",
   "nbconvert_exporter": "python",
   "pygments_lexer": "ipython3",
   "version": "3.6.2"
  }
 },
 "nbformat": 4,
 "nbformat_minor": 2
}
