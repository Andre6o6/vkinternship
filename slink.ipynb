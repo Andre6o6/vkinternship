{
 "cells": [
  {
   "cell_type": "markdown",
   "metadata": {},
   "source": [
    "# Алгоритм иерархической кластеризации с алгоритмом объединения \"single-link clustering\" (SLINK)\n",
    "\n",
    "Алгоритм начинает работу, считая каждую точку отдельным кластером. На каждой итерации он находит два максимально близких кластера (с минимальным расстоянием между ближайшими элементами) и сливает их в один. Это продолжается, пока все точки не окажутся в одном кластере.\n",
    "\n",
    "Сначала алгоритм рассчитывает матрицу расстояний $ D $ (для удобства диагональ заполняется бесконечностями). Также для каждой точки в двух дополнительных массивах хранится индекс ближайшего соседа и расстояние до него.\n",
    "\n",
    "Это занимает $O(n^2)$ времени.\n",
    "\n",
    "На каждой итерации: \n",
    " - находится минимум в массиве расстояний до ближайшего соседа и две соответствующие точки $i$ и $j$\n",
    " - в массиве расстояний до ближайшего соседа на j-том месте ставится бесконечность, что соответствует удалению $j$ из рассмотрения\n",
    " - пересчитывается i-тая строчка матрицы расстояний: $D(i,x) = min( D(i,x), D(j,x) )$. Теперь i-тая строчка соответствует кластеру $ij$\n",
    " - для кластера $ij$ находится новый ближайший сосед и расстояние до него и записывается в i-тую ячейку соответствующих массивов\n",
    " - если для какой-то точки ближайшим соседом была $j$, то для нее ближайшим соседом становится $i$\n",
    "\n",
    "$O(n)$ итераций, на каждой из них тратится $O(n)$ времени на поиск минимума в массивах и обновление строки в матрице.<br>\n",
    "Итого сложность по времени $O(n^2)$"
   ]
  },
  {
   "cell_type": "code",
   "execution_count": 2,
   "metadata": {
    "collapsed": true
   },
   "outputs": [],
   "source": [
    "import numpy as np\n",
    "\n",
    "def proximity_matrix(x):\n",
    "    max_dist = max(x) - min(x) + 1\n",
    "    \n",
    "    proximity = np.eye(len(x))\n",
    "    for i,a in enumerate(x):\n",
    "        for j,b in enumerate(x):\n",
    "            if i == j:\n",
    "                proximity[i,j] = max_dist\n",
    "            else:\n",
    "                proximity[i,j] = abs(a - b)\n",
    "    return proximity\n",
    "\n",
    "def SLINKcluster(x):\n",
    "    max_dist = max(x) - min(x) + 1\n",
    "    clusters = [[i] for i in x]\n",
    "\n",
    "    proximity = proximity_matrix(x)\n",
    "    dist_list = np.min(proximity, axis=0)\n",
    "    nearest_list = np.argmin(proximity, axis=0) \n",
    "    \n",
    "    for step in range(len(x)-1):\n",
    "        i = np.argmin(dist_list)\n",
    "        j = nearest_list[i]\n",
    "\n",
    "        dist_list[j] = max_dist\n",
    "        \n",
    "        for k,a in enumerate(x):\n",
    "            if k == i or k == j:\n",
    "                d = max_dist\n",
    "            else:\n",
    "                d = min(proximity[i,k], proximity[j,k])\n",
    "            proximity[i,k] = d\n",
    "            proximity[k,j] = max_dist \n",
    "        \n",
    "        dist_list[i] = min(proximity[i])\n",
    "        nearest_list[i] = np.argmin(proximity[i])\n",
    "\n",
    "        for k,n in enumerate(nearest_list):\n",
    "            if n == j: \n",
    "                nearest_list[k] = i\n",
    "\n",
    "        clusters[i] = [clusters[i], clusters[j]]\n",
    "    return clusters[i]"
   ]
  },
  {
   "cell_type": "code",
   "execution_count": 3,
   "metadata": {},
   "outputs": [
    {
     "name": "stdout",
     "output_type": "stream",
     "text": [
      "[[[[[[55], [54]], [[42], [46]]], [64]], [[[28], [[16], [17]]], [4]]], [93]]\n"
     ]
    }
   ],
   "source": [
    "import random\n",
    "x = [random.randrange(100) for i in range(10)]\n",
    "# x = [float(a) for a in input().split()]\n",
    "\n",
    "print(SLINKcluster(x))"
   ]
  },
  {
   "cell_type": "markdown",
   "metadata": {},
   "source": [
    "Недостаток этого метода в том, что он производит \"длинные\" кластеры, в которых расстояние между соседями мало, но расстояние между элементами на двух противоположных концах кластера велико.\n",
    "\n",
    "Также метод имеет проблему \"цепных кластеров\", в которых к кластеру каждый раз добавляется одиночный элемент.<br>\n",
    "Пример: на точках $x = [1, 2, 4, 6, 8]$ получатся кластеры $[[[[1,2],4],6],8]$"
   ]
  },
  {
   "cell_type": "code",
   "execution_count": null,
   "metadata": {
    "collapsed": true
   },
   "outputs": [],
   "source": []
  }
 ],
 "metadata": {
  "kernelspec": {
   "display_name": "Python 3",
   "language": "python",
   "name": "python3"
  },
  "language_info": {
   "codemirror_mode": {
    "name": "ipython",
    "version": 3
   },
   "file_extension": ".py",
   "mimetype": "text/x-python",
   "name": "python",
   "nbconvert_exporter": "python",
   "pygments_lexer": "ipython3",
   "version": "3.6.2"
  }
 },
 "nbformat": 4,
 "nbformat_minor": 2
}
